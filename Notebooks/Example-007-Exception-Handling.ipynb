{
 "cells": [
  {
   "cell_type": "markdown",
   "metadata": {},
   "source": [
    "<h3> Exception Handling </h3>\n",
    "<p>\n",
    "Our object is to write robust code that can handle erroneous\n",
    "conditions or exceptions when they arise. Python provides a\n",
    "<i>try-except-finally</i> block that allows us to do so. \n",
    "\n",
    "Exceptions are raised in the <i>try</i> block and handled in\n",
    "the <i>except</i> block. The code in the <i>finally</i> block\n",
    "goes through the cleaning up and closing process of the program\n",
    "whether an exception occurred or not.\n",
    "</p>\n",
    "\n",
    "<p>\n",
    "All Python exceptions inherit from <i>BaseException</i>. The\n",
    "Exception Hierarchy contains many exceptions like - ArithmeticError,\n",
    "RunTimeError, LookupError, SyntaxError, etc. Here is a \n",
    "<a href = \"http://docs.python.org/3/library/exceptions.html\">\n",
    "comprehensive list of exceptions</a>.\n",
    "</p>\n"
   ]
  },
  {
   "cell_type": "markdown",
   "metadata": {},
   "source": [
    "\n",
    "<p>\n",
    "The general syntax for using exceptions:\n",
    "\n",
    "```python\n",
    "try:\n",
    "  # body of code where exceptions may occur or be raised\n",
    "  ...\n",
    "except <ErrorType1>:\n",
    "  # code to handle errors of this type\n",
    "  ...\n",
    "except <ErrorType2>:\n",
    "  # code to handle errors of this type\n",
    "  ...\n",
    "else:\n",
    "  # if no exception occurred\n",
    "  ...\n",
    "finally:\n",
    "  # cleanup code\n",
    "  ...\n",
    "```\n",
    "\n",
    "\n",
    "The except blocks act like <i>elifs</i>. Once a match has been found\n",
    "that <i>except</i> block is executed and all subsequent <i>except</i>\n",
    "blocks are skipped. Note that the <i>finally</i> block is optional.\n",
    "The usual practice is to arrange the <i>except</i> starting with\n",
    "the most specific error to the the most general error. The <i>else</i>\n",
    "block is also optional and must follow all the except blocks. This code\n",
    "is executed if the <i>try</i> block does not raise an exception. \n",
    "</p>\n",
    "\n",
    "<p>\n",
    "There are several ways to handle exceptions:\n",
    "<ul>\n",
    "<li> Make an entry into a log file and continue processing. A human\n",
    "user may intervene and correct the error condition. </li>\n",
    "<li> Try a different version of the code that avoids the erroneous\n",
    "condition. </li>\n",
    "<li> Write an informative error message and gracefully exit the\n",
    "program. </li>\n",
    "</ul>\n",
    "</p>\n",
    "\n",
    "<p>\n",
    "Exception are raised when a problem occurs. For example, in the\n",
    "function that computes the slope of a line, you will raise an\n",
    "exception if the line is parallel to the y-axis.\n",
    "\n",
    "```python\n",
    "if (x1 == x2):\n",
    "  raise RuntimeError ('line parallel to y axis')\n",
    "```\n",
    "    \n",
    "You can also raise an exception implicitly by using the <i>assert</i>\n",
    "statement. The syntax is\n",
    "\n",
    "```python\n",
    "assert test [, msg]\n",
    "```\n",
    "\n",
    "This will raise an <i>AssertionError</i> that will be handled in\n",
    "an <i>except</i> block.\n",
    "</p>\n",
    "\n",
    "\n",
    "https://docs.python.org/3.10/tutorial/errors.html\n"
   ]
  },
  {
   "cell_type": "code",
   "execution_count": 1,
   "metadata": {},
   "outputs": [
    {
     "name": "stdout",
     "output_type": "stream",
     "text": [
      "1.14\n",
      "0.57\n"
     ]
    }
   ],
   "source": [
    "# Consider that you want to cast a String to an integer or float number. \n",
    "# What would happen if your String is not including a valid number. \n",
    "\n",
    "# First we look at a normal case\n",
    "a = \"1.14\"\n",
    "a_as_float=float(a)\n",
    "\n",
    "\n",
    "print(a_as_float)\n",
    "\n",
    "# And now you can work on this float, like dividing by 2\n",
    "print(a_as_float/2)\n",
    "\n"
   ]
  },
  {
   "cell_type": "code",
   "execution_count": 2,
   "metadata": {},
   "outputs": [
    {
     "ename": "ValueError",
     "evalue": "could not convert string to float: 'This is not a float number'",
     "output_type": "error",
     "traceback": [
      "\u001b[0;31m---------------------------------------------------------------------------\u001b[0m",
      "\u001b[0;31mValueError\u001b[0m                                Traceback (most recent call last)",
      "\u001b[0;32m<ipython-input-2-dc77dcaf23de>\u001b[0m in \u001b[0;36m<module>\u001b[0;34m\u001b[0m\n\u001b[1;32m      3\u001b[0m \u001b[0;31m# First we look at a normal case\u001b[0m\u001b[0;34m\u001b[0m\u001b[0;34m\u001b[0m\u001b[0;34m\u001b[0m\u001b[0m\n\u001b[1;32m      4\u001b[0m \u001b[0ma\u001b[0m \u001b[0;34m=\u001b[0m \u001b[0;34m\"This is not a float number\"\u001b[0m\u001b[0;34m\u001b[0m\u001b[0;34m\u001b[0m\u001b[0m\n\u001b[0;32m----> 5\u001b[0;31m \u001b[0ma_as_float\u001b[0m\u001b[0;34m=\u001b[0m\u001b[0mfloat\u001b[0m\u001b[0;34m(\u001b[0m\u001b[0ma\u001b[0m\u001b[0;34m)\u001b[0m\u001b[0;34m\u001b[0m\u001b[0;34m\u001b[0m\u001b[0m\n\u001b[0m\u001b[1;32m      6\u001b[0m \u001b[0;34m\u001b[0m\u001b[0m\n\u001b[1;32m      7\u001b[0m \u001b[0;31m#You will get a ValueError Exception like following.\u001b[0m\u001b[0;34m\u001b[0m\u001b[0;34m\u001b[0m\u001b[0;34m\u001b[0m\u001b[0m\n",
      "\u001b[0;31mValueError\u001b[0m: could not convert string to float: 'This is not a float number'"
     ]
    }
   ],
   "source": [
    "# Now, let us have a case that an string cannot be converted to a float like \n",
    "\n",
    "# First we look at a normal case\n",
    "a = \"This is not a float number\"\n",
    "a_as_float=float(a)\n",
    "\n",
    "#You will get a ValueError Exception like following. \n",
    "\n"
   ]
  },
  {
   "cell_type": "code",
   "execution_count": null,
   "metadata": {},
   "outputs": [],
   "source": [
    "# The following String can be converted to float\n",
    "a = \"NaN\"\n",
    "a_as_float=float(a)\n",
    "a_as_float"
   ]
  },
  {
   "cell_type": "code",
   "execution_count": 1,
   "metadata": {},
   "outputs": [
    {
     "data": {
      "text/plain": [
       "['1', '2', 'NaN', '4', '5', '6', 'XY', '8', '9', 'end']"
      ]
     },
     "execution_count": 1,
     "metadata": {},
     "output_type": "execute_result"
    }
   ],
   "source": [
    "# Consider the case that you are reading data from a huge file, and the file might have many error values in it.\n",
    "# Like having a list of string separated values like these\n",
    "\n",
    "# We want to convert those values that are possible and drop the rest of them \n",
    "my_data=\"1,2,NaN,4,5,6,XY,8,9,end\"\n",
    "\n",
    "my_data_as_list=my_data.split(\",\")\n",
    "my_data_as_list"
   ]
  },
  {
   "cell_type": "code",
   "execution_count": 2,
   "metadata": {},
   "outputs": [
    {
     "name": "stdout",
     "output_type": "stream",
     "text": [
      "XY can not be cast to float\n",
      "end can not be cast to float\n"
     ]
    },
    {
     "data": {
      "text/plain": [
       "[1.0, 2.0, nan, 4.0, 5.0, 6.0, 8.0, 9.0]"
      ]
     },
     "execution_count": 2,
     "metadata": {},
     "output_type": "execute_result"
    }
   ],
   "source": [
    "# Exception Handling and removing wrong data lines\n",
    "def isfloat(value):\n",
    "    try:\n",
    "        float(value)\n",
    "        return True\n",
    "    except ValueError:  #or just except:\n",
    "        print(value +\" can not be cast to float\")\n",
    "        return False\n",
    "    \n",
    "my_data_as_float=[]\n",
    "\n",
    "for value in my_data_as_list:\n",
    "    if(isfloat(value)):\n",
    "        my_data_as_float.append(float(value))\n",
    "        \n",
    "my_data_as_float"
   ]
  },
  {
   "cell_type": "code",
   "execution_count": 3,
   "metadata": {},
   "outputs": [
    {
     "ename": "ValueError",
     "evalue": "could not convert string to float: 'XY'",
     "output_type": "error",
     "traceback": [
      "\u001b[0;31m---------------------------------------------------------------------------\u001b[0m",
      "\u001b[0;31mValueError\u001b[0m                                Traceback (most recent call last)",
      "\u001b[0;32m<ipython-input-3-086023d35b86>\u001b[0m in \u001b[0;36m<module>\u001b[0;34m\u001b[0m\n\u001b[1;32m      1\u001b[0m \u001b[0;32mfor\u001b[0m \u001b[0mvalue\u001b[0m \u001b[0;32min\u001b[0m \u001b[0mmy_data_as_list\u001b[0m\u001b[0;34m:\u001b[0m\u001b[0;34m\u001b[0m\u001b[0;34m\u001b[0m\u001b[0m\n\u001b[0;32m----> 2\u001b[0;31m     \u001b[0mmy_data_as_float\u001b[0m\u001b[0;34m.\u001b[0m\u001b[0mappend\u001b[0m\u001b[0;34m(\u001b[0m\u001b[0mfloat\u001b[0m\u001b[0;34m(\u001b[0m\u001b[0mvalue\u001b[0m\u001b[0;34m)\u001b[0m\u001b[0;34m)\u001b[0m\u001b[0;34m\u001b[0m\u001b[0;34m\u001b[0m\u001b[0m\n\u001b[0m",
      "\u001b[0;31mValueError\u001b[0m: could not convert string to float: 'XY'"
     ]
    }
   ],
   "source": [
    "for value in my_data_as_list:\n",
    "    my_data_as_float.append(float(value))"
   ]
  },
  {
   "cell_type": "markdown",
   "metadata": {},
   "source": [
    "# Does finally always execute in python?\n",
    "\n",
    "A good answer is here\n",
    "https://stackoverflow.com/questions/49262379/does-finally-always-execute-in-python\n",
    "\n",
    "\n",
    "It will mostly run but sometimes it depends on your function definition. "
   ]
  },
  {
   "cell_type": "code",
   "execution_count": 6,
   "metadata": {},
   "outputs": [
    {
     "name": "stdout",
     "output_type": "stream",
     "text": [
      "executing finally clause\n"
     ]
    },
    {
     "ename": "TypeError",
     "evalue": "unsupported operand type(s) for /: 'str' and 'str'",
     "output_type": "error",
     "traceback": [
      "\u001b[0;31m---------------------------------------------------------------------------\u001b[0m",
      "\u001b[0;31mTypeError\u001b[0m                                 Traceback (most recent call last)",
      "\u001b[0;32m<ipython-input-6-caedb1f5c015>\u001b[0m in \u001b[0;36m<module>\u001b[0;34m\u001b[0m\n\u001b[1;32m     11\u001b[0m \u001b[0;31m# divide(2, 1)\u001b[0m\u001b[0;34m\u001b[0m\u001b[0;34m\u001b[0m\u001b[0;34m\u001b[0m\u001b[0m\n\u001b[1;32m     12\u001b[0m \u001b[0;31m# divide(2, 0)\u001b[0m\u001b[0;34m\u001b[0m\u001b[0;34m\u001b[0m\u001b[0;34m\u001b[0m\u001b[0m\n\u001b[0;32m---> 13\u001b[0;31m \u001b[0mdivide\u001b[0m\u001b[0;34m(\u001b[0m\u001b[0;34m\"2\"\u001b[0m\u001b[0;34m,\u001b[0m \u001b[0;34m\"1\"\u001b[0m\u001b[0;34m)\u001b[0m\u001b[0;34m\u001b[0m\u001b[0;34m\u001b[0m\u001b[0m\n\u001b[0m",
      "\u001b[0;32m<ipython-input-6-caedb1f5c015>\u001b[0m in \u001b[0;36mdivide\u001b[0;34m(x, y)\u001b[0m\n\u001b[1;32m      1\u001b[0m \u001b[0;32mdef\u001b[0m \u001b[0mdivide\u001b[0m\u001b[0;34m(\u001b[0m\u001b[0mx\u001b[0m\u001b[0;34m,\u001b[0m \u001b[0my\u001b[0m\u001b[0;34m)\u001b[0m\u001b[0;34m:\u001b[0m\u001b[0;34m\u001b[0m\u001b[0;34m\u001b[0m\u001b[0m\n\u001b[1;32m      2\u001b[0m     \u001b[0;32mtry\u001b[0m\u001b[0;34m:\u001b[0m\u001b[0;34m\u001b[0m\u001b[0;34m\u001b[0m\u001b[0m\n\u001b[0;32m----> 3\u001b[0;31m         \u001b[0mresult\u001b[0m \u001b[0;34m=\u001b[0m \u001b[0mx\u001b[0m \u001b[0;34m/\u001b[0m \u001b[0my\u001b[0m\u001b[0;34m\u001b[0m\u001b[0;34m\u001b[0m\u001b[0m\n\u001b[0m\u001b[1;32m      4\u001b[0m     \u001b[0;32mexcept\u001b[0m \u001b[0mZeroDivisionError\u001b[0m\u001b[0;34m:\u001b[0m\u001b[0;34m\u001b[0m\u001b[0;34m\u001b[0m\u001b[0m\n\u001b[1;32m      5\u001b[0m         \u001b[0mprint\u001b[0m\u001b[0;34m(\u001b[0m\u001b[0;34m\"division by zero!\"\u001b[0m\u001b[0;34m)\u001b[0m\u001b[0;34m\u001b[0m\u001b[0;34m\u001b[0m\u001b[0m\n",
      "\u001b[0;31mTypeError\u001b[0m: unsupported operand type(s) for /: 'str' and 'str'"
     ]
    }
   ],
   "source": [
    "def divide(x, y):\n",
    "    try:\n",
    "        result = x / y\n",
    "    except ZeroDivisionError:\n",
    "        print(\"division by zero!\")\n",
    "    else:\n",
    "        print(\"result is\", result)\n",
    "    finally:\n",
    "        print(\"executing finally clause\")\n",
    "\n",
    "\n",
    "divide(2, 1)\n",
    "\n",
    "divide(2, 0)\n",
    "\n",
    "divide(\"2\", \"1\")"
   ]
  },
  {
   "cell_type": "code",
   "execution_count": 7,
   "metadata": {},
   "outputs": [
    {
     "name": "stderr",
     "output_type": "stream",
     "text": [
      "Exception ignored in: <generator object gen at 0x7ff349dea0b0>\n",
      "Traceback (most recent call last):\n",
      "  File \"<ipython-input-7-050346b3c326>\", line 14, in <module>\n",
      "RuntimeError: generator ignored GeneratorExit\n"
     ]
    },
    {
     "name": "stdout",
     "output_type": "stream",
     "text": [
      "Found a number\n",
      "Oops, no cleanup.\n"
     ]
    }
   ],
   "source": [
    "\n",
    "def gen(text):\n",
    "    try:\n",
    "        for line in text:\n",
    "            try:\n",
    "                yield int(line)\n",
    "            except:\n",
    "                # Ignore blank lines - but catch too much!\n",
    "                pass\n",
    "    finally:\n",
    "        print('Doing important cleanup')\n",
    "\n",
    "text = ['1', '', '2', 'AA12Y', '3']\n",
    "\n",
    "if any(n > 1 for n in gen(text)):\n",
    "    print('Found a number')\n",
    "\n",
    "\n",
    "print('Oops, no cleanup.')\n",
    "\n",
    "\n"
   ]
  },
  {
   "cell_type": "markdown",
   "metadata": {},
   "source": [
    "## Reading Data from the Web \n",
    "\n",
    "<p>\n",
    "You can read any file on the web by using the function <i>urlopen</i>\n",
    "in the <i>urllib.request</i> module. You will create a file handler\n",
    "in the following manner:\n",
    "\n",
    "```python\n",
    "import urllib.request\n",
    "\n",
    "infile = urllib.request.urlopen (\"https://filesamples.com/samples/document/txt/sample1.txt\")\n",
    "fileContent = infile.read().decode()\n",
    "\n",
    "```\n",
    "\n",
    "The data read from a given URL is raw data in bytes. The <i>decode()</i>\n",
    "function converts the raw data into a string.\n",
    "\n",
    "</p>\n",
    "\n",
    "<p>\n",
    "If there is an error accessing the file on the web a <i>URLError</i> is\n",
    "raised. This error includes detailed information in an exception object\n",
    "called <i>HTTPError</i>. This information itself is a file like object\n",
    "and can be read:\n",
    "\n",
    "```python\n",
    "try:\n",
    "  u = urlopen (\"https://filesamples.com/samples/document/txt/sample1.txt\")\n",
    "  fileContent = u.read().decode()\n",
    "except HTTPError as ex:\n",
    "  err_msg = ex.read()\n",
    "```\n",
    "</p>"
   ]
  },
  {
   "cell_type": "markdown",
   "metadata": {},
   "source": [
    "# User Defined Exceptions\n",
    "\n",
    "<p>\n",
    "You can define your own exception class by inheriting from the\n",
    "<i>Exception</i> class or any one of its subclasses. For\n",
    "example, in its simplest form:\n",
    "\n",
    "```python\n",
    "class UserDefinedError (RuntimeError):\n",
    "  def __init__ (self):\n",
    "    super().__init__()\n",
    "```\n",
    "\n",
    "\n",
    "The <i>UserDefinedError</i> can now be raised and processed\n",
    "like any other built-in errors. For more information on exception\n",
    "handling read the\n",
    "\n",
    "<a href = \"http://docs.python.org/3/tutorial/errors.html#syntax-errors\">\n",
    "tutorial on exception handling</a>.\n",
    "</p>"
   ]
  },
  {
   "cell_type": "code",
   "execution_count": null,
   "metadata": {},
   "outputs": [],
   "source": []
  }
 ],
 "metadata": {
  "kernelspec": {
   "display_name": "Python 3",
   "language": "python",
   "name": "python3"
  },
  "language_info": {
   "codemirror_mode": {
    "name": "ipython",
    "version": 3
   },
   "file_extension": ".py",
   "mimetype": "text/x-python",
   "name": "python",
   "nbconvert_exporter": "python",
   "pygments_lexer": "ipython3",
   "version": "3.8.3"
  }
 },
 "nbformat": 4,
 "nbformat_minor": 4
}
